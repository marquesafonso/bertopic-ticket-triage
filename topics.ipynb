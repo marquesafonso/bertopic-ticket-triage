{
 "cells": [
  {
   "cell_type": "markdown",
   "metadata": {},
   "source": [
    "# Ticket Triage with Topic Modelling using Bertopic"
   ]
  },
  {
   "cell_type": "code",
   "execution_count": 1,
   "metadata": {},
   "outputs": [
    {
     "name": "stderr",
     "output_type": "stream",
     "text": [
      "c:\\Users\\afons\\coding-projects\\bertopic-ticket-triage\\.venv\\Lib\\site-packages\\tqdm\\auto.py:21: TqdmWarning: IProgress not found. Please update jupyter and ipywidgets. See https://ipywidgets.readthedocs.io/en/stable/user_install.html\n",
      "  from .autonotebook import tqdm as notebook_tqdm\n",
      "Filter: 100%|██████████| 28587/28587 [00:00<00:00, 81221.16 examples/s]\n",
      "Map: 100%|██████████| 16338/16338 [00:00<00:00, 18188.59 examples/s]\n",
      "Map: 100%|██████████| 16338/16338 [00:00<00:00, 31534.89 examples/s]\n",
      "Map: 100%|██████████| 16338/16338 [00:00<00:00, 32848.41 examples/s]\n",
      "Stringifying the column: 100%|██████████| 16338/16338 [00:00<00:00, 969738.04 examples/s]\n",
      "Casting to class labels: 100%|██████████| 16338/16338 [00:00<00:00, 753593.73 examples/s]\n",
      "[17:03:09] {c:\\Users\\afons\\coding-projects\\bertopic-ticket-triage\\src\\dataset.py:42} INFO -                                                     text  labels\n",
      "0      Account Disruption Dear Customer Support Team,...       0\n",
      "1      Query About Smart Home System Integration Feat...       1\n",
      "2      Inquiry Regarding Invoice Details Dear Custome...       2\n",
      "3      Question About Marketing Agency Software Compa...       3\n",
      "4      Feature Query Dear Customer Support,\\n\\nI hope...       0\n",
      "...                                                  ...     ...\n",
      "16333  Problem with Billing Adjustment An unexpected ...       2\n",
      "16334  Urgent: Incident Involving Data Breach in Medi...       5\n",
      "16335  Performance Problem with Data Analytics Tool T...       0\n",
      "16336  Update Request for SaaS Platform Integration F...       6\n",
      "16337  Inquiry About Project Management Features Look...       0\n",
      "\n",
      "[16338 rows x 2 columns]\n",
      "[17:03:10] {c:\\Users\\afons\\coding-projects\\bertopic-ticket-triage\\src\\dataset.py:52} INFO - [Train] Label 0: 3553 occurrences\n",
      "[17:03:10] {c:\\Users\\afons\\coding-projects\\bertopic-ticket-triage\\src\\dataset.py:52} INFO - [Train] Label 1: 615 occurrences\n",
      "[17:03:10] {c:\\Users\\afons\\coding-projects\\bertopic-ticket-triage\\src\\dataset.py:52} INFO - [Train] Label 2: 1196 occurrences\n",
      "[17:03:10] {c:\\Users\\afons\\coding-projects\\bertopic-ticket-triage\\src\\dataset.py:52} INFO - [Train] Label 3: 385 occurrences\n",
      "[17:03:10] {c:\\Users\\afons\\coding-projects\\bertopic-ticket-triage\\src\\dataset.py:52} INFO - [Train] Label 4: 498 occurrences\n",
      "[17:03:10] {c:\\Users\\afons\\coding-projects\\bertopic-ticket-triage\\src\\dataset.py:52} INFO - [Train] Label 5: 2305 occurrences\n",
      "[17:03:10] {c:\\Users\\afons\\coding-projects\\bertopic-ticket-triage\\src\\dataset.py:52} INFO - [Train] Label 6: 1456 occurrences\n",
      "[17:03:10] {c:\\Users\\afons\\coding-projects\\bertopic-ticket-triage\\src\\dataset.py:52} INFO - [Train] Label 7: 1807 occurrences\n",
      "[17:03:11] {c:\\Users\\afons\\coding-projects\\bertopic-ticket-triage\\src\\dataset.py:52} INFO - [Train] Label 8: 261 occurrences\n",
      "[17:03:11] {c:\\Users\\afons\\coding-projects\\bertopic-ticket-triage\\src\\dataset.py:52} INFO - [Train] Label 9: 177 occurrences\n"
     ]
    }
   ],
   "source": [
    "from src.dataset import load_dataset\n",
    "\n",
    "dataset, queue_labels, id2label, label2id, class_weight_dict = load_dataset()\n",
    "train_dataset, test_dataset = dataset[\"train\"], dataset[\"test\"]"
   ]
  },
  {
   "cell_type": "code",
   "execution_count": null,
   "metadata": {},
   "outputs": [
    {
     "name": "stderr",
     "output_type": "stream",
     "text": [
      "[15:55:53] {c:\\Users\\afons\\coding-projects\\bertopic-ticket-triage\\.venv\\Lib\\site-packages\\sentence_transformers\\SentenceTransformer.py:219} INFO - Use pytorch device_name: cpu\n",
      "[15:55:53] {c:\\Users\\afons\\coding-projects\\bertopic-ticket-triage\\.venv\\Lib\\site-packages\\sentence_transformers\\SentenceTransformer.py:227} INFO - Load pretrained SentenceTransformer: sentence-transformers/all-MiniLM-L6-v2\n"
     ]
    }
   ],
   "source": [
    "from src.model import train_supervised_classifier\n",
    "\n",
    "docs, y = train_dataset[\"text\"], train_dataset[\"labels\"]\n",
    "base_model = train_supervised_classifier(docs=docs, y=y, class_weight_dict=class_weight_dict)"
   ]
  },
  {
   "cell_type": "code",
   "execution_count": 4,
   "metadata": {},
   "outputs": [
    {
     "data": {
      "text/plain": [
       "'Delays in Financial Data Processing The financial organization encountered delays in processing data. The potential reason might be server overload. Efforts to resolve this included rebooting servers and clearing caches, but the problem continues.'"
      ]
     },
     "execution_count": 4,
     "metadata": {},
     "output_type": "execute_result"
    }
   ],
   "source": [
    "test = test_dataset[0][\"text\"]\n",
    "test"
   ]
  },
  {
   "cell_type": "code",
   "execution_count": null,
   "metadata": {},
   "outputs": [
    {
     "data": {
      "text/plain": [
       "[np.int64(0)]"
      ]
     },
     "execution_count": 5,
     "metadata": {},
     "output_type": "execute_result"
    }
   ],
   "source": [
    "topic, _ = base_model.transform(test)\n",
    "topic"
   ]
  },
  {
   "cell_type": "code",
   "execution_count": null,
   "metadata": {},
   "outputs": [
    {
     "data": {
      "text/plain": [
       "('Technical Support', 'IT Support')"
      ]
     },
     "execution_count": 9,
     "metadata": {},
     "output_type": "execute_result"
    }
   ],
   "source": [
    "base_model.get_topic(topic[0])\n",
    "pred = id2label[topic[0]]\n",
    "original = id2label[test_dataset[0][\"labels\"]]\n",
    "pred, original"
   ]
  },
  {
   "cell_type": "code",
   "execution_count": null,
   "metadata": {},
   "outputs": [
    {
     "name": "stderr",
     "output_type": "stream",
     "text": [
      "Map: 100%|██████████| 4085/4085 [01:00<00:00, 67.08 examples/s]\n",
      "Filter: 100%|██████████| 4085/4085 [00:00<00:00, 333815.18 examples/s]\n"
     ]
    },
    {
     "data": {
      "text/plain": [
       "29.106487148102815"
      ]
     },
     "execution_count": 15,
     "metadata": {},
     "output_type": "execute_result"
    }
   ],
   "source": [
    "def predict(row):\n",
    "    topic, _ = base_model.transform(row[\"text\"])\n",
    "    return topic[0]\n",
    "\n",
    "\n",
    "test_dataset = test_dataset.map(lambda x: {\n",
    "    \"preds\" : predict(x)\n",
    "})\n",
    "\n",
    "## Baseline is 29.11%\n",
    "accuracy = test_dataset.filter(lambda x: x[\"preds\"] == x[\"labels\"]).num_rows * 100 / test_dataset.num_rows\n",
    "accuracy\n"
   ]
  },
  {
   "cell_type": "code",
   "execution_count": 2,
   "metadata": {},
   "outputs": [
    {
     "name": "stderr",
     "output_type": "stream",
     "text": [
      "[17:03:34] {c:\\Users\\afons\\coding-projects\\bertopic-ticket-triage\\.venv\\Lib\\site-packages\\sentence_transformers\\SentenceTransformer.py:219} INFO - Use pytorch device_name: cpu\n",
      "[17:03:34] {c:\\Users\\afons\\coding-projects\\bertopic-ticket-triage\\.venv\\Lib\\site-packages\\sentence_transformers\\SentenceTransformer.py:227} INFO - Load pretrained SentenceTransformer: ibm-granite/granite-embedding-small-english-r2\n",
      "Batches: 100%|██████████| 1/1 [00:00<00:00, 24.87it/s]\n"
     ]
    }
   ],
   "source": [
    "from src.model import train_zshot_model\n",
    "\n",
    "zshot_model = train_zshot_model(docs=train_dataset[\"text\"], zeroshot_topic_list=queue_labels)"
   ]
  },
  {
   "cell_type": "code",
   "execution_count": 3,
   "metadata": {},
   "outputs": [
    {
     "name": "stderr",
     "output_type": "stream",
     "text": [
      "Map: 100%|██████████| 4085/4085 [02:47<00:00, 24.35 examples/s]\n",
      "Filter: 100%|██████████| 4085/4085 [00:00<00:00, 378620.91 examples/s]\n"
     ]
    },
    {
     "data": {
      "text/plain": [
       "4.2594859241126075"
      ]
     },
     "execution_count": 3,
     "metadata": {},
     "output_type": "execute_result"
    }
   ],
   "source": [
    "def predict(row):\n",
    "    topic, _ = zshot_model.transform(row[\"text\"])\n",
    "    return topic[0]\n",
    "\n",
    "\n",
    "test_dataset = test_dataset.map(lambda x: {\n",
    "    \"preds\" : predict(x)\n",
    "})\n",
    "\n",
    "accuracy = test_dataset.filter(lambda x: x[\"preds\"] == x[\"labels\"]).num_rows * 100 / test_dataset.num_rows\n",
    "accuracy\n"
   ]
  }
 ],
 "metadata": {
  "kernelspec": {
   "display_name": "bertopic-ticket-triage",
   "language": "python",
   "name": "python3"
  },
  "language_info": {
   "codemirror_mode": {
    "name": "ipython",
    "version": 3
   },
   "file_extension": ".py",
   "mimetype": "text/x-python",
   "name": "python",
   "nbconvert_exporter": "python",
   "pygments_lexer": "ipython3",
   "version": "3.13.7"
  }
 },
 "nbformat": 4,
 "nbformat_minor": 2
}
